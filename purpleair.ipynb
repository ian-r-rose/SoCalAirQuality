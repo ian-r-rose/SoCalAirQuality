{
 "cells": [
  {
   "cell_type": "markdown",
   "id": "5e1525b9-7242-4064-8296-dbc2140f1b79",
   "metadata": {},
   "source": [
    "# Southern California Air Quality Bot\n",
    "\n",
    "This is a notebook for downloading air quality data from [PurpleAir](https://purpleair.com)\n",
    "and broadcasting it on social media. If the air quality is *bad*, it can also tag in\n",
    "relevant elected officials."
   ]
  },
  {
   "cell_type": "code",
   "execution_count": 1,
   "id": "4ef1d05a-1242-4e1c-b22c-b2e6abaa07ff",
   "metadata": {},
   "outputs": [],
   "source": [
    "import os\n",
    "from typing import Optional\n",
    "\n",
    "import contextily\n",
    "import geopandas\n",
    "import matplotlib.pyplot as plt\n",
    "import numpy\n",
    "import pandas\n",
    "import requests\n",
    "from matplotlib.colors import LinearSegmentedColormap"
   ]
  },
  {
   "cell_type": "markdown",
   "id": "da964673-869e-418f-882b-15ff401e0f76",
   "metadata": {},
   "source": [
    "## Download the data\n",
    "\n",
    "We first download the data from Purple Air."
   ]
  },
  {
   "cell_type": "code",
   "execution_count": 2,
   "id": "78b03327-c095-4e4e-af09-05c2146eb255",
   "metadata": {},
   "outputs": [],
   "source": [
    "API_KEY = os.environ.get(\"PURPLEAIR_API_KEY\")\n",
    "FIELDS = [\n",
    "    \"name\",\n",
    "    \"location_type\",\n",
    "    \"latitude\",\n",
    "    \"longitude\",\n",
    "    \"humidity\",\n",
    "    \"pm2.5_cf_1\",\n",
    "    \"pm2.5_cf_1_a\",\n",
    "    \"pm2.5_cf_1_b\",\n",
    "\n",
    "]\n",
    "response = requests.get(\n",
    "    \"https://api.purpleair.com/v1/sensors\",\n",
    "    headers={\"X-API-Key\": API_KEY},\n",
    "    params={\n",
    "        \"fields\": \",\".join(FIELDS),\n",
    "        \"max_age\": 10*60,\n",
    "        \"nwlng\": -119.4,\n",
    "        \"nwlat\": 34.9,\n",
    "        \"selng\": -116.6,\n",
    "        \"selat\": 33.2,\n",
    "    }   \n",
    ")\n",
    "response.raise_for_status()\n",
    "data = response.json()\n",
    "df = pandas.DataFrame.from_records(data=data[\"data\"], columns=data[\"fields\"])"
   ]
  },
  {
   "cell_type": "code",
   "execution_count": 3,
   "id": "d5026b87-5585-4175-8a72-44c847a9fb93",
   "metadata": {},
   "outputs": [],
   "source": [
    "gdf = geopandas.GeoDataFrame(\n",
    "    df,\n",
    "    geometry=geopandas.points_from_xy(df[\"longitude\"], df[\"latitude\"], crs=\"EPSG:4326\")\n",
    ")\n",
    "# Filter to outdoors and recently-seen sensors. Age seems to be in minutes\n",
    "gdf = gdf[(gdf.location_type == 0)]"
   ]
  },
  {
   "cell_type": "markdown",
   "id": "ddbab8dd-1882-45f8-8f3e-e6117776e373",
   "metadata": {},
   "source": [
    "## Compute AQI from the data\n",
    "\n",
    "[airnow.gov](airnow.gov) has an PM2.5-to-AQI [calculator](https://www.airnow.gov/aqi/aqi-calculator-concentration/)\n",
    "which [exposes](https://www.airnow.gov/sites/default/files/custom-js/conc-aqi.js) some human-readable javascript utils.\n",
    "These are ported to Python here:"
   ]
  },
  {
   "cell_type": "code",
   "execution_count": 4,
   "id": "5ffcef92-617d-4957-a805-8ae43e2be648",
   "metadata": {},
   "outputs": [],
   "source": [
    "def aqi_from_pm(pm: float) -> Optional[float]:\n",
    "    # Check for invalid readings. PM > 500 is off the scale.\n",
    "    if pandas.isna(pm) or pm < 0 or pm >= 500.5:\n",
    "        return None; \n",
    "\n",
    "    if pm > 0 and pm < 12.1:\n",
    "        return linear(50, 0, 12, 0, pm)\n",
    "    elif pm >= 12.1 and pm < 35.5:\n",
    "        return linear(100, 51, 35.4, 12.1, pm)\n",
    "    elif pm >= 35.5 and pm < 55.5:\n",
    "        return linear(150, 101, 55.4, 35.5, pm)\n",
    "    elif pm >= 55.5 and  pm < 150.5:\n",
    "        return linear(200, 151, 150.4, 55.5, pm)\n",
    "    elif pm >= 150.5 and pm < 250.5:\n",
    "        return linear(300, 201, 250.4, 150.5, pm)\n",
    "    elif pm >= 250.5 and pm < 350.5:\n",
    "        return linear(400, 301, 350.4, 250.5, pm)\n",
    "    elif pm >= 350.5 and pm < 500.5:\n",
    "        return linear(500, 401, 500.4, 350.5, pm)\n",
    "    else:\n",
    "        return None\n",
    "\n",
    "def linear(aqi_high, aqi_low, conc_high, conc_low, conc):\n",
    "    return numpy.rint(\n",
    "        ((aqi_high - aqi_low) / (conc_high - conc_low)) * (conc - conc_low) + aqi_low\n",
    "    )"
   ]
  },
  {
   "cell_type": "markdown",
   "id": "5c9cb591-bada-4eb7-aa80-2c247dcdd968",
   "metadata": {},
   "source": [
    "We also apply the EPA correction to raw Purple Air sensor data described\n",
    "[here](https://cfpub.epa.gov/si/si_public_record_Report.cfm?dirEntryId=350075&Lab=CEMM),\n",
    "which was calibrated to wildfire data in 2020 and removes some apparent systematic over-estimates."
   ]
  },
  {
   "cell_type": "code",
   "execution_count": 5,
   "id": "745bd93d-9309-401d-a171-f9649ca805f9",
   "metadata": {},
   "outputs": [],
   "source": [
    "# Calculate the AQI values and drop nulls.\n",
    "gdf = (\n",
    "    gdf\n",
    "    .assign(\n",
    "        aqi=(0.52 * gdf[\"pm2.5_cf_1\"] - 0.085 * gdf.humidity + 5.71).apply(aqi_from_pm)\n",
    "    )\n",
    "    .dropna(subset=[\"aqi\"])\n",
    ")"
   ]
  },
  {
   "cell_type": "markdown",
   "id": "03b2e1f8-01d0-4264-89aa-803d0a67efca",
   "metadata": {},
   "source": [
    "## Create plots!\n",
    "\n",
    "Administrative districts, especially LA City Council districts, can have weird shapes\n",
    "due to historical contingencies and gerrymandering. This proved to have some odd effects\n",
    "when doing simple point-in-polygon tests for sensors, as sensors which have relevant\n",
    "data to a region were being cut out due to a weird wiggle in a boundary.\n",
    "\n",
    "Instead, I create a buffered convex hull for each district and use that for filtering\n",
    "to relevant sensor data."
   ]
  },
  {
   "cell_type": "code",
   "execution_count": 6,
   "id": "24560ec1-7897-4f9e-97d6-127ba469c5d3",
   "metadata": {},
   "outputs": [
    {
     "data": {
      "text/plain": [
       "<AxesSubplot:>"
      ]
     },
     "execution_count": 6,
     "metadata": {},
     "output_type": "execute_result"
    },
    {
     "data": {
      "image/png": "[encoded data removed]",
      "text/plain": [
       "<Figure size 432x288 with 1 Axes>"
      ]
     },
     "metadata": {
      "needs_background": "light"
     },
     "output_type": "display_data"
    }
   ],
   "source": [
    "la_council_districts = geopandas.read_file(\"data/LA_City_Council_Districts_(Adopted_2021).geojson\")\n",
    "\n",
    "# Create an envelope with a 1 mile buffer\n",
    "la_council_districts = (\n",
    "    la_council_districts\n",
    "    .to_crs(epsg=2229)\n",
    "    .assign(envelope=lambda gdf: gdf.geometry.convex_hull.buffer(5280.))\n",
    "    .set_geometry(\"envelope\")\n",
    "    .to_crs(epsg=4326)\n",
    "    .set_geometry(\"geometry\")\n",
    ")\n",
    "\n",
    "# A fun plot of the districts!\n",
    "la_council_districts.set_geometry(\"envelope\").plot(alpha=0.5,)"
   ]
  },
  {
   "cell_type": "code",
   "execution_count": 7,
   "id": "82958068-b274-4e6a-8e34-7c07ea41090a",
   "metadata": {},
   "outputs": [],
   "source": [
    "cmap = LinearSegmentedColormap.from_list(\n",
    "    name=\"purpleair\",\n",
    "    colors=[\"green\", \"yellow\", \"red\", \"purple\"]\n",
    ")"
   ]
  },
  {
   "cell_type": "code",
   "execution_count": 8,
   "id": "148276b3-b06f-4656-8687-7789950623ee",
   "metadata": {},
   "outputs": [],
   "source": [
    "twitter_accounts = {\n",
    "    1: \"@cmgilcedillo\",\n",
    "    2: \"@PaulKrekorian\",\n",
    "    3: \"@BobBlumenfield\",\n",
    "    4: \"@cd4losangeles\",\n",
    "    5: \"@PaulKoretzCD5\",\n",
    "    6: \"@CD6Nury\",\n",
    "    7: \"@MRodCD7\",\n",
    "    8: \"@mhdcd8\",\n",
    "    9: \"@CurrenDPriceJr\",\n",
    "    10: None,  # :(\n",
    "    11: \"@mikebonin\",\n",
    "    12: \"@CD12LA\",\n",
    "    13: \"@MitchOFarrell\",\n",
    "    14: \"@kdeleon\",  # mayoral campaign account vastly more used than @Kdeleoncd14\"\n",
    "    15: \"@JoeBuscaino\",\n",
    "}   "
   ]
  },
  {
   "cell_type": "code",
   "execution_count": 9,
   "id": "a620170b-b08b-4712-b2bd-d860d01f02db",
   "metadata": {},
   "outputs": [],
   "source": [
    "def get_category(aqi: float) -> str:\n",
    "    if aqi <=50:\n",
    "        return \"good\"\n",
    "    elif aqi > 50 and aqi <= 100:\n",
    "        return \"moderate\"\n",
    "    elif aqi > 100 and aqi <= 150:\n",
    "        return \"unhealthy for sensitive groups\"\n",
    "    elif aqi > 150 and aqi <= 200:\n",
    "        return \"unhealthy\"\n",
    "    elif aqi > 200 and aqi <= 300:\n",
    "        return \"very unhealthy\"\n",
    "    elif aqi > 300 and aqu <= 500:\n",
    "        return \"hazardous\"\n",
    "    else:\n",
    "        return \"out of range\""
   ]
  },
  {
   "cell_type": "code",
   "execution_count": 10,
   "id": "0bdd5c7b-fa3e-4176-a75a-d7b897ed430b",
   "metadata": {},
   "outputs": [
    {
     "data": {
      "text/plain": [
       "'The residents of LA City Council District 1 are experiencing an air quality index of 52 (moderate).'"
      ]
     },
     "metadata": {},
     "output_type": "display_data"
    },
    {
     "data": {
      "text/plain": [
       "'The residents of LA City Council District 2 are experiencing an air quality index of 31 (good).'"
      ]
     },
     "metadata": {},
     "output_type": "display_data"
    },
    {
     "data": {
      "text/plain": [
       "'The residents of LA City Council District 3 are experiencing an air quality index of 28 (good).'"
      ]
     },
     "metadata": {},
     "output_type": "display_data"
    },
    {
     "data": {
      "text/plain": [
       "'The residents of LA City Council District 4 are experiencing an air quality index of 33 (good).'"
      ]
     },
     "metadata": {},
     "output_type": "display_data"
    },
    {
     "data": {
      "text/plain": [
       "'The residents of LA City Council District 5 are experiencing an air quality index of 30 (good).'"
      ]
     },
     "metadata": {},
     "output_type": "display_data"
    },
    {
     "data": {
      "text/plain": [
       "'The residents of LA City Council District 6 are experiencing an air quality index of 30 (good).'"
      ]
     },
     "metadata": {},
     "output_type": "display_data"
    },
    {
     "data": {
      "text/plain": [
       "'The residents of LA City Council District 7 are experiencing an air quality index of 30 (good).'"
      ]
     },
     "metadata": {},
     "output_type": "display_data"
    },
    {
     "data": {
      "text/plain": [
       "'The residents of LA City Council District 8 are experiencing an air quality index of 54 (moderate).'"
      ]
     },
     "metadata": {},
     "output_type": "display_data"
    },
    {
     "data": {
      "text/plain": [
       "'The residents of LA City Council District 9 are experiencing an air quality index of 98 (moderate).'"
      ]
     },
     "metadata": {},
     "output_type": "display_data"
    },
    {
     "data": {
      "text/plain": [
       "'The residents of LA City Council District 10 are experiencing an air quality index of 35 (good).'"
      ]
     },
     "metadata": {},
     "output_type": "display_data"
    },
    {
     "data": {
      "text/plain": [
       "'The residents of LA City Council District 11 are experiencing an air quality index of 28 (good).'"
      ]
     },
     "metadata": {},
     "output_type": "display_data"
    },
    {
     "data": {
      "text/plain": [
       "'The residents of LA City Council District 12 are experiencing an air quality index of 24 (good).'"
      ]
     },
     "metadata": {},
     "output_type": "display_data"
    },
    {
     "data": {
      "text/plain": [
       "'The residents of LA City Council District 13 are experiencing an air quality index of 47 (good).'"
      ]
     },
     "metadata": {},
     "output_type": "display_data"
    },
    {
     "data": {
      "text/plain": [
       "'The residents of LA City Council District 14 are experiencing an air quality index of 48 (good).'"
      ]
     },
     "metadata": {},
     "output_type": "display_data"
    },
    {
     "data": {
      "text/plain": [
       "'The residents of LA City Council District 15 are experiencing an air quality index of 36 (good).'"
      ]
     },
     "metadata": {},
     "output_type": "display_data"
    }
   ],
   "source": [
    "for i, district in la_council_districts.iterrows():\n",
    "    district_gdf = gdf[gdf.geometry.within(district.envelope)]\n",
    "    \n",
    "    # Create text for a tweet\n",
    "    aqi = int(numpy.rint(district_gdf.aqi.median()))\n",
    "    category = get_category(aqi)\n",
    "    message = f\"\"\"The residents of LA City Council District {district.District} are experiencing an air quality index of {aqi} ({category}).\"\"\"\n",
    "    if aqi > 100:\n",
    "        handle = twitter_accounts.get(district.District)\n",
    "        if not handle: # Woo, corruption!\n",
    "            handle = \"@MayorOfLA @CD6Nury\"\n",
    "        message += f\"\\n\\n{handle} what are you doing to make sure that the people you represent have safe air to breathe?\"\n",
    "    display(message)\n",
    "\n",
    "    # Set up the figure\n",
    "    fig, ax = plt.subplots(figsize=(16,16))\n",
    "    ax.axes.xaxis.set_visible(False)\n",
    "    ax.axes.yaxis.set_visible(False)\n",
    "    \n",
    "    # Plot the CD outline\n",
    "    la_council_districts[\n",
    "        la_council_districts.District == district.District\n",
    "    ].to_crs(epsg=3857).plot(ax=ax, color=\"blue\", alpha=0.1)\n",
    "    \n",
    "    # Plot the data\n",
    "    ax.axes.autoscale(False)\n",
    "    district_gdf.to_crs(epsg=3857).plot(ax=ax, s=4000, alpha=0.7, column=\"aqi\", cmap=cmap, vmin=0, vmax=200)\n",
    "    for idx, sensor in district_gdf.to_crs(epsg=3857).iterrows():\n",
    "        color = \"black\" if sensor[\"aqi\"] < 120 else \"white\"\n",
    "        ax.annotate(\n",
    "            str(int(sensor[\"aqi\"])),\n",
    "            xy=(sensor.geometry.x, sensor.geometry.y),\n",
    "            fontsize=16,\n",
    "            ha=\"center\",\n",
    "            va=\"center\",\n",
    "            color=color,\n",
    "            alpha=0.75,\n",
    "            annotation_clip=True,\n",
    "            clip_on=True,\n",
    "        )\n",
    "        \n",
    "    # Add the basemap\n",
    "    contextily.add_basemap(ax)\n",
    "    \n",
    "    # Output\n",
    "    plt.close(fig)\n",
    "    fig.savefig(f\"cd{district.District}.png\")\n",
    "    # display(fig)"
   ]
  }
 ],
 "metadata": {
  "kernelspec": {
   "display_name": "Python 3 (ipykernel)",
   "language": "python",
   "name": "python3"
  },
  "language_info": {
   "codemirror_mode": {
    "name": "ipython",
    "version": 3
   },
   "file_extension": ".py",
   "mimetype": "text/x-python",
   "name": "python",
   "nbconvert_exporter": "python",
   "pygments_lexer": "ipython3",
   "version": "3.8.5"
  }
 },
 "nbformat": 4,
 "nbformat_minor": 5
}
