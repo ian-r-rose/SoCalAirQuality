{
 "cells": [
  {
   "cell_type": "markdown",
   "id": "5e1525b9-7242-4064-8296-dbc2140f1b79",
   "metadata": {},
   "source": [
    "# Southern California Air Quality Bot\n",
    "\n",
    "This is a notebook for downloading air quality data from [PurpleAir](https://purpleair.com)\n",
    "and broadcasting it on social media. If the air quality is *bad*, it can also tag in\n",
    "relevant elected officials."
   ]
  },
  {
   "cell_type": "code",
   "execution_count": null,
   "id": "4ef1d05a-1242-4e1c-b22c-b2e6abaa07ff",
   "metadata": {},
   "outputs": [],
   "source": [
    "import os\n",
    "import re\n",
    "from typing import Optional\n",
    "\n",
    "import contextily\n",
    "import dotenv\n",
    "import geopandas\n",
    "import matplotlib.pyplot as plt\n",
    "import numpy\n",
    "import pandas\n",
    "import requests\n",
    "from matplotlib.colors import LinearSegmentedColormap\n",
    "import tweepy\n",
    "\n",
    "dotenv.load_dotenv()"
   ]
  },
  {
   "cell_type": "markdown",
   "id": "da964673-869e-418f-882b-15ff401e0f76",
   "metadata": {},
   "source": [
    "## Download the data\n",
    "\n",
    "We first download the data from Purple Air."
   ]
  },
  {
   "cell_type": "code",
   "execution_count": null,
   "id": "78b03327-c095-4e4e-af09-05c2146eb255",
   "metadata": {},
   "outputs": [],
   "source": [
    "API_KEY = os.environ.get(\"PURPLEAIR_API_KEY\")\n",
    "FIELDS = [\n",
    "    \"name\",\n",
    "    \"location_type\",\n",
    "    \"latitude\",\n",
    "    \"longitude\",\n",
    "    \"humidity\",\n",
    "    \"pm2.5_cf_1\",\n",
    "    \"pm2.5_cf_1_a\",\n",
    "    \"pm2.5_cf_1_b\",\n",
    "\n",
    "]\n",
    "response = requests.get(\n",
    "    \"https://api.purpleair.com/v1/sensors\",\n",
    "    headers={\"X-API-Key\": API_KEY},\n",
    "    params={\n",
    "        \"fields\": \",\".join(FIELDS),\n",
    "        \"max_age\": 10*60,\n",
    "        \"nwlng\": -119.4,\n",
    "        \"nwlat\": 35.0,\n",
    "        \"selng\": -116.6,\n",
    "        \"selat\": 32.5,\n",
    "    }   \n",
    ")\n",
    "response.raise_for_status()\n",
    "data = response.json()\n",
    "df = pandas.DataFrame.from_records(data=data[\"data\"], columns=data[\"fields\"])"
   ]
  },
  {
   "cell_type": "code",
   "execution_count": null,
   "id": "d5026b87-5585-4175-8a72-44c847a9fb93",
   "metadata": {},
   "outputs": [],
   "source": [
    "gdf = geopandas.GeoDataFrame(\n",
    "    df,\n",
    "    geometry=geopandas.points_from_xy(df[\"longitude\"], df[\"latitude\"], crs=\"EPSG:4326\")\n",
    ")\n",
    "# Filter to outdoors and recently-seen sensors. Age seems to be in minutes\n",
    "gdf = gdf[(gdf.location_type == 0)]\n",
    "\n",
    "# Remove extreme outliers based on the difference between the two channels\n",
    "gdf = gdf[(gdf[\"pm2.5_cf_1_a\"] - gdf[\"pm2.5_cf_1_b\"]).abs() < 50]"
   ]
  },
  {
   "cell_type": "markdown",
   "id": "ddbab8dd-1882-45f8-8f3e-e6117776e373",
   "metadata": {},
   "source": [
    "## Compute AQI from the data\n",
    "\n",
    "[airnow.gov](airnow.gov) has an PM2.5-to-AQI [calculator](https://www.airnow.gov/aqi/aqi-calculator-concentration/)\n",
    "which [exposes](https://www.airnow.gov/sites/default/files/custom-js/conc-aqi.js) some human-readable javascript utils.\n",
    "These are ported to Python here:"
   ]
  },
  {
   "cell_type": "code",
   "execution_count": null,
   "id": "5ffcef92-617d-4957-a805-8ae43e2be648",
   "metadata": {},
   "outputs": [],
   "source": [
    "def aqi_from_pm(pm: float) -> Optional[float]:\n",
    "    # Check for invalid readings. PM > 500 is off the scale.\n",
    "    if pandas.isna(pm) or pm < 0 or pm >= 500.5:\n",
    "        return None; \n",
    "\n",
    "    if pm > 0 and pm < 12.1:\n",
    "        return linear(50, 0, 12, 0, pm)\n",
    "    elif pm >= 12.1 and pm < 35.5:\n",
    "        return linear(100, 51, 35.4, 12.1, pm)\n",
    "    elif pm >= 35.5 and pm < 55.5:\n",
    "        return linear(150, 101, 55.4, 35.5, pm)\n",
    "    elif pm >= 55.5 and  pm < 150.5:\n",
    "        return linear(200, 151, 150.4, 55.5, pm)\n",
    "    elif pm >= 150.5 and pm < 250.5:\n",
    "        return linear(300, 201, 250.4, 150.5, pm)\n",
    "    elif pm >= 250.5 and pm < 350.5:\n",
    "        return linear(400, 301, 350.4, 250.5, pm)\n",
    "    elif pm >= 350.5 and pm < 500.5:\n",
    "        return linear(500, 401, 500.4, 350.5, pm)\n",
    "    else:\n",
    "        return None\n",
    "\n",
    "def linear(aqi_high, aqi_low, conc_high, conc_low, conc):\n",
    "    return numpy.rint(\n",
    "        ((aqi_high - aqi_low) / (conc_high - conc_low)) * (conc - conc_low) + aqi_low\n",
    "    )"
   ]
  },
  {
   "cell_type": "markdown",
   "id": "5c9cb591-bada-4eb7-aa80-2c247dcdd968",
   "metadata": {},
   "source": [
    "We also apply the EPA correction to raw Purple Air sensor data described\n",
    "[here](https://cfpub.epa.gov/si/si_public_record_Report.cfm?dirEntryId=350075&Lab=CEMM),\n",
    "which was calibrated to wildfire data in 2020 and removes some apparent systematic over-estimates."
   ]
  },
  {
   "cell_type": "code",
   "execution_count": null,
   "id": "745bd93d-9309-401d-a171-f9649ca805f9",
   "metadata": {},
   "outputs": [],
   "source": [
    "# Calculate the AQI values and drop nulls.\n",
    "gdf = (\n",
    "    gdf\n",
    "    .assign(\n",
    "        aqi=(0.52 * gdf[\"pm2.5_cf_1\"] - 0.085 * gdf.humidity + 5.71).apply(aqi_from_pm)\n",
    "    )\n",
    "    .dropna(subset=[\"aqi\"])\n",
    ")"
   ]
  },
  {
   "cell_type": "markdown",
   "id": "03b2e1f8-01d0-4264-89aa-803d0a67efca",
   "metadata": {
    "tags": []
   },
   "source": [
    "## Create plots!\n",
    "\n",
    "Administrative districts, especially LA City Council districts, can have weird shapes\n",
    "due to historical contingencies and gerrymandering. This proved to have some odd effects\n",
    "when doing simple point-in-polygon tests for sensors, as sensors which have relevant\n",
    "data to a region were being cut out due to a weird wiggle in a boundary.\n",
    "\n",
    "Instead, I create a buffered convex hull for each district and use that for filtering\n",
    "to relevant sensor data."
   ]
  },
  {
   "cell_type": "code",
   "execution_count": null,
   "id": "2af70ee6-916a-4295-ac0d-8cb190dd2f84",
   "metadata": {},
   "outputs": [],
   "source": [
    "if os.environ.get(\"DISTRICT_TYPE\") == \"SUPERVISORIAL\":\n",
    "    kind = \"LA Supervisorial District\"\n",
    "else:\n",
    "    kind = \"LA City Council District\""
   ]
  },
  {
   "cell_type": "code",
   "execution_count": null,
   "id": "24560ec1-7897-4f9e-97d6-127ba469c5d3",
   "metadata": {},
   "outputs": [],
   "source": [
    "districts = geopandas.read_file(\"data/districts.geojson\")\n",
    "districts = districts[districts.kind == kind]\n",
    "\n",
    "# Create an envelope with a 1 mile buffer\n",
    "districts = (\n",
    "    districts\n",
    "    .to_crs(epsg=2229)\n",
    "    .assign(envelope=lambda gdf: gdf.geometry.convex_hull.buffer(5280.))\n",
    "    .set_geometry(\"envelope\")\n",
    "    .to_crs(epsg=4326)\n",
    "    .set_geometry(\"geometry\")\n",
    ")\n",
    "\n",
    "# A fun plot of the districts!\n",
    "districts.set_geometry(\"envelope\").plot(alpha=0.5)"
   ]
  },
  {
   "cell_type": "code",
   "execution_count": null,
   "id": "82958068-b274-4e6a-8e34-7c07ea41090a",
   "metadata": {},
   "outputs": [],
   "source": [
    "cmap = LinearSegmentedColormap.from_list(\n",
    "    name=\"purpleair\",\n",
    "    colors=[\"green\", \"yellow\", \"red\", \"purple\"]\n",
    ")"
   ]
  },
  {
   "cell_type": "markdown",
   "id": "9921aacf-9fd7-4424-98dd-626712933005",
   "metadata": {},
   "source": [
    "## Tweet things!"
   ]
  },
  {
   "cell_type": "code",
   "execution_count": null,
   "id": "a620170b-b08b-4712-b2bd-d860d01f02db",
   "metadata": {},
   "outputs": [],
   "source": [
    "def get_category(aqi: float) -> str:\n",
    "    if aqi <=50:\n",
    "        return \"good\"\n",
    "    elif aqi > 50 and aqi <= 100:\n",
    "        return \"moderate\"\n",
    "    elif aqi > 100 and aqi <= 150:\n",
    "        return \"unhealthy for sensitive groups\"\n",
    "    elif aqi > 150 and aqi <= 200:\n",
    "        return \"unhealthy\"\n",
    "    elif aqi > 200 and aqi <= 300:\n",
    "        return \"very unhealthy\"\n",
    "    elif aqi > 300 and aqu <= 500:\n",
    "        return \"hazardous\"\n",
    "    else:\n",
    "        return \"out of range\""
   ]
  },
  {
   "cell_type": "code",
   "execution_count": null,
   "id": "aa55cad1-5fc3-4dec-b3bb-3f6c2a96e298",
   "metadata": {},
   "outputs": [],
   "source": [
    "# We'd prefer to use the v2 of the API with tweepy.Client, but that doesn't yet support\n",
    "# uploading media, so fall back to v1.\n",
    "auth = tweepy.OAuthHandler(\n",
    "    consumer_key=os.environ.get(\"TWITTER_API_KEY\"),\n",
    "    consumer_secret=os.environ.get(\"TWITTER_API_KEY_SECRET\"),\n",
    ")\n",
    "auth.set_access_token(\n",
    "    os.environ.get(\"TWITTER_ACCESS_TOKEN\"),\n",
    "    os.environ.get(\"TWITTER_ACCESS_TOKEN_SECRET\"),\n",
    ")\n",
    "client = tweepy.API(auth) "
   ]
  },
  {
   "cell_type": "markdown",
   "id": "2bd89b2b-6269-4f0e-b3a7-26ba32a0f1a0",
   "metadata": {},
   "source": [
    "Okay, we want to send tweets over the course of each day, rather than a bulk dump of them.\n",
    "This is a bit tricky with GitHub actions, as they are designed to be somewhat stateless,\n",
    "so it's not easy to know which row to tweet about.\n",
    "\n",
    "So here we use Twitter itself as our state store: we grab the most recent tweet\n",
    "from the account, see what it was, then tweet for the next district. This is brittle,\n",
    "and will likely need to be rethought if this ever extends beyond city council/supervisorial districts!"
   ]
  },
  {
   "cell_type": "code",
   "execution_count": null,
   "id": "64b8fa24-ddb9-416f-a36f-7797c6707a57",
   "metadata": {},
   "outputs": [],
   "source": [
    "tweets = client.user_timeline(count=20)\n",
    "\n",
    "if kind == \"LA City Council District\":\n",
    "    size=4000\n",
    "    alpha=0.7\n",
    "    n_districts = 15\n",
    "    try:\n",
    "        for t in tweets:\n",
    "            matches = re.findall(r\"LA City Council District (\\d+)\", t.text)\n",
    "            if len(matches):\n",
    "                next_district = int(matches[0]) + 1\n",
    "                next_district = next_district if next_district <= n_districts else 1\n",
    "                break\n",
    "        else:\n",
    "            next_district = 1 \n",
    "    except:\n",
    "        next_district = 1\n",
    "elif kind == \"LA Supervisorial District\":\n",
    "    size=1000\n",
    "    alpha=0.3\n",
    "    n_districts = 5\n",
    "    try:\n",
    "        for t in tweets:\n",
    "            matches = re.findall(r\"LA Supervisorial District (\\d+)\", t.text)\n",
    "            if len(matches):\n",
    "                next_district = int(matches[0]) + 1\n",
    "                next_district = next_district if next_district <= n_districts else 1\n",
    "                break\n",
    "        else:\n",
    "            next_district = 1 \n",
    "    except:\n",
    "        next_district = 1\n",
    "\n",
    "districts_to_tweet = [next_district]"
   ]
  },
  {
   "cell_type": "code",
   "execution_count": null,
   "id": "0bdd5c7b-fa3e-4176-a75a-d7b897ed430b",
   "metadata": {},
   "outputs": [],
   "source": [
    "for i, district in districts.iterrows():\n",
    "    if district.district not in districts_to_tweet:\n",
    "        continue\n",
    "    district_gdf = gdf[gdf.geometry.within(district.envelope)]\n",
    "    \n",
    "    # Create text for a tweet\n",
    "    aqi = int(numpy.rint(district_gdf.aqi.median()))\n",
    "    category = get_category(aqi)\n",
    "    message = f\"\"\"The residents of {district.label} are experiencing an air quality index of {aqi} ({category}).\"\"\"\n",
    "    if aqi > 100:\n",
    "        if pandas.notna(district.handle):\n",
    "            message += f\"\\n\\n{district.handle} what are you doing to make sure that the people you represent have safe air to breathe?\"\n",
    "\n",
    "    # Set up the figure\n",
    "    fig, ax = plt.subplots(figsize=(16,16))\n",
    "    ax.axes.xaxis.set_visible(False)\n",
    "    ax.axes.yaxis.set_visible(False)\n",
    "    \n",
    "    # Plot the outline\n",
    "    districts[\n",
    "        districts.district == district.district\n",
    "    ].to_crs(epsg=3857).plot(ax=ax, color=\"blue\", alpha=0.1)\n",
    "    \n",
    "    # Plot the data\n",
    "    ax.axes.autoscale(False)\n",
    "    \n",
    "    district_gdf.to_crs(epsg=3857).plot(ax=ax, s=size, alpha=alpha, column=\"aqi\", cmap=cmap, vmin=0, vmax=200)\n",
    "    \n",
    "    # Annotations are too busy for supervisorial districts\n",
    "    if kind == \"LA City Council District\" or True:\n",
    "        for idx, sensor in district_gdf.to_crs(epsg=3857).iterrows():\n",
    "            color = \"black\" if sensor[\"aqi\"] < 120 else \"white\"\n",
    "            ax.annotate(\n",
    "                str(int(sensor[\"aqi\"])),\n",
    "                xy=(sensor.geometry.x, sensor.geometry.y),\n",
    "                fontsize=16,\n",
    "                ha=\"center\",\n",
    "                va=\"center\",\n",
    "                color=color,\n",
    "                alpha=alpha,\n",
    "                annotation_clip=True,\n",
    "                clip_on=True,\n",
    "            )\n",
    "        \n",
    "    # Add the basemap\n",
    "    contextily.add_basemap(ax)\n",
    "    \n",
    "    # Output\n",
    "    if kind == \"LA Supervisorial District\":\n",
    "        filename = f\"sd{district.district}.png\"\n",
    "    elif kind == \"LA City Council District\":\n",
    "        filename = f\"cd{district.district}.png\"\n",
    "    plt.close(fig)\n",
    "    fig.savefig(filename, bbox_inches=\"tight\")\n",
    "    \n",
    "    # Send tweet\n",
    "    media = client.media_upload(filename)\n",
    "    client.update_status(\n",
    "        status=message,\n",
    "        media_ids=[media.media_id],\n",
    "        lat=district.latitude,\n",
    "        long=district.longitude,\n",
    "        display_coordinates=True,\n",
    "    )"
   ]
  }
 ],
 "metadata": {
  "kernelspec": {
   "display_name": "Python 3 (ipykernel)",
   "language": "python",
   "name": "python3"
  },
  "language_info": {
   "codemirror_mode": {
    "name": "ipython",
    "version": 3
   },
   "file_extension": ".py",
   "mimetype": "text/x-python",
   "name": "python",
   "nbconvert_exporter": "python",
   "pygments_lexer": "ipython3",
   "version": "3.8.5"
  }
 },
 "nbformat": 4,
 "nbformat_minor": 5
}
